{
 "cells": [
  {
   "cell_type": "code",
   "execution_count": 1,
   "metadata": {},
   "outputs": [],
   "source": [
    "class student(object):\n",
    "    def __init__(self,name1,name2):\n",
    "        print(name1*name2)\n",
    "        print(name1+name2)\n",
    "        print(name1-name2)\n",
    "        print(name1/name2)\n",
    "        print(name1+name2)\n",
    "        print(name1//name2)\n",
    "        print(name1**name2)"
   ]
  },
  {
   "cell_type": "code",
   "execution_count": 2,
   "metadata": {},
   "outputs": [
    {
     "name": "stdout",
     "output_type": "stream",
     "text": [
      "2\n",
      "3\n",
      "-1\n",
      "0.5\n",
      "3\n",
      "0\n",
      "1\n"
     ]
    },
    {
     "data": {
      "text/plain": [
       "<__main__.student at 0x2350a5726d8>"
      ]
     },
     "execution_count": 2,
     "metadata": {},
     "output_type": "execute_result"
    }
   ],
   "source": [
    "student(1,2)"
   ]
  },
  {
   "cell_type": "code",
   "execution_count": 7,
   "metadata": {},
   "outputs": [
    {
     "name": "stdout",
     "output_type": "stream",
     "text": [
      "lyp只可以观看动画片\n"
     ]
    },
    {
     "data": {
      "text/plain": [
       "<__main__.student at 0x2350a572fd0>"
      ]
     },
     "execution_count": 7,
     "metadata": {},
     "output_type": "execute_result"
    }
   ],
   "source": [
    "class student(object):\n",
    "    def __init__(self,lyp):\n",
    "        if lyp>18:\n",
    "            print(\"lyp可以观看岛国爱情动作片\")\n",
    "        else:\n",
    "            print(\"lyp只可以观看动画片\")\n",
    "student(18)"
   ]
  },
  {
   "cell_type": "code",
   "execution_count": 9,
   "metadata": {},
   "outputs": [
    {
     "name": "stdout",
     "output_type": "stream",
     "text": [
      "lyp可观看司机\n"
     ]
    },
    {
     "data": {
      "text/plain": [
       "<__main__.student at 0x2350a6858d0>"
      ]
     },
     "execution_count": 9,
     "metadata": {},
     "output_type": "execute_result"
    }
   ],
   "source": [
    "class student(object):\n",
    "    def __init__(self,lyp):\n",
    "        if 18<=lyp<=20:\n",
    "            print(\"lyp可观看司机\")\n",
    "        elif 20<lyp<=50:\n",
    "            print(\"lyp大国\")\n",
    "        else:\n",
    "            print(\"不\")\n",
    "student(20)"
   ]
  },
  {
   "cell_type": "code",
   "execution_count": 44,
   "metadata": {},
   "outputs": [
    {
     "name": "stdout",
     "output_type": "stream",
     "text": [
      "年轻\n",
      "男\n"
     ]
    }
   ],
   "source": [
    "class student(object):\n",
    "    def __init__(self,a,b):\n",
    "        self.a=a\n",
    "        self.b=b\n",
    "    def lxz(self):\n",
    "        if self.a<=25:\n",
    "            print(\"年轻\")\n",
    "        elif 18<self.a<=40:\n",
    "            print(\"中年\")\n",
    "        else:\n",
    "            print(\"老年\")\n",
    "    def func1(self):\n",
    "        if self.b == \"男\":\n",
    "            print(\"男\")\n",
    "        elif self.b==\"女\" :\n",
    "            print(\"女\")\n",
    "        else :\n",
    "            print(\"人妖\")\n",
    "aaa=student(21,\"男\")\n",
    "aaa.lxz()\n",
    "aaa.func1()"
   ]
  },
  {
   "cell_type": "code",
   "execution_count": 2,
   "metadata": {},
   "outputs": [],
   "source": [
    "class A(object):\n",
    "    def __init__(self,num):\n",
    "        self.num=num\n",
    "    def sushu(self):\n",
    "        if self.num>1:\n",
    "            for i in range(2,self.num):\n",
    "                if (self.num % i) == 0:\n",
    "                    print(self.num,\"不是素数\")\n",
    "                break\n",
    "            else:\n",
    "                print(self.num,\"是素数\")\n",
    "        else:\n",
    "            print(self.num,\"不是素数\")\n",
    "aaa=A(53)\n",
    "aaa.sushu()\n",
    "\n",
    "    \n",
    "    "
   ]
  },
  {
   "cell_type": "code",
   "execution_count": 3,
   "metadata": {},
   "outputs": [
    {
     "name": "stdout",
     "output_type": "stream",
     "text": [
      "53 是素数\n"
     ]
    }
   ],
   "source": [
    "class name(object):\n",
    "    \"\"\"\n",
    "    判断一个数字是否是素数\n",
    "    \"\"\"\n",
    "    def __init__(self,num):\n",
    "        self.num=num\n",
    "    def sushu(self):\n",
    "        if self.num > 1:\n",
    "            for i in range(2,self.num):\n",
    "                if(self.num % i) == 0:\n",
    "                    print(self.num,\"不是素数\")\n",
    "                    break\n",
    "            else:\n",
    "                 print(self.num,\"是素数\")\n",
    "        else:\n",
    "            print(self.num,\"不是素数\")\n",
    "n=name(53)\n",
    "n.sushu()"
   ]
  },
  {
   "cell_type": "code",
   "execution_count": 81,
   "metadata": {},
   "outputs": [
    {
     "name": "stdout",
     "output_type": "stream",
     "text": [
      "6 不是素数\n"
     ]
    }
   ],
   "source": [
    "class name(object):\n",
    "    def __init__(self,num):\n",
    "        self.num=num\n",
    "    def check(self):\n",
    "        if self.num > 1:\n",
    "            for i in range(2,self.num):\n",
    "                if(self.num % i) == 0:\n",
    "                    print(self.num,\"不是素数\")\n",
    "                    break\n",
    "            else:\n",
    "                 print(self.num,\"是素数\")\n",
    "        else:\n",
    "            print(self.num,\"不是素数\")\n",
    "n=name(6)\n",
    "n.check()"
   ]
  },
  {
   "cell_type": "code",
   "execution_count": 6,
   "metadata": {},
   "outputs": [
    {
     "name": "stdout",
     "output_type": "stream",
     "text": [
      "2010 365天\n",
      "2011 365天\n",
      "2012 366天\n",
      "2013 365天\n",
      "2014 365天\n",
      "2015 365天\n",
      "2016 366天\n",
      "2017 365天\n",
      "2018 365天\n",
      "2019 365天\n",
      "2020 366天\n"
     ]
    }
   ],
   "source": [
    "\"\"\"\n",
    "2010至2020天数\n",
    "\"\"\"\n",
    "def numberOfDaysInAYrea(years):\n",
    "        if years%100 !=0 and years%400==0:\n",
    "            print(years,\"366天\")\n",
    "        elif years%4==0:\n",
    "            print(years,\"366天\")\n",
    "        else:\n",
    "            print(years,\"365天\")\n",
    "\n",
    "for years in range(2010,2021):\n",
    "    numberOfDaysInAYrea(years)"
   ]
  },
  {
   "cell_type": "code",
   "execution_count": 7,
   "metadata": {},
   "outputs": [
    {
     "name": "stdout",
     "output_type": "stream",
     "text": [
      "1.0 5.0 12.0 22.0 35.0 51.0 70.0 92.0 117.0 145.0\n",
      "176.0 210.0 247.0 287.0 330.0 376.0 425.0 477.0 532.0 590.0\n",
      "651.0 715.0 782.0 852.0 925.0 1001.0 1080.0 1162.0 1247.0 1335.0\n",
      "1426.0 1520.0 1617.0 1717.0 1820.0 1926.0 2035.0 2147.0 2262.0 2380.0\n",
      "2501.0 2625.0 2752.0 2882.0 3015.0 3151.0 3290.0 3432.0 3577.0 3725.0\n",
      "3876.0 4030.0 4187.0 4347.0 4510.0 4676.0 4845.0 5017.0 5192.0 5370.0\n",
      "5551.0 5735.0 5922.0 6112.0 6305.0 6501.0 6700.0 6902.0 7107.0 7315.0\n",
      "7526.0 7740.0 7957.0 8177.0 8400.0 8626.0 8855.0 9087.0 9322.0 9560.0\n",
      "9801.0 10045.0 10292.0 10542.0 10795.0 11051.0 11310.0 11572.0 11837.0 12105.0\n",
      "12376.0 12650.0 12927.0 13207.0 13490.0 13776.0 14065.0 14357.0 14652.0 14950.0\n"
     ]
    }
   ],
   "source": [
    "\"\"\"\n",
    "五角数\n",
    "\"\"\"\n",
    "def getpentagonalNumber(n):\n",
    "    a = n*(3*n-1)/2\n",
    "    if n %10 !=0:\n",
    "        print(a,end=' ')\n",
    "    else:\n",
    "        print(a)\n",
    "for i in range(1,101):\n",
    "    getpentagonalNumber(i)\n",
    "        "
   ]
  },
  {
   "cell_type": "code",
   "execution_count": 8,
   "metadata": {},
   "outputs": [
    {
     "name": "stdout",
     "output_type": "stream",
     "text": [
      "请您输入第一个数:4\n",
      "请您输入第二个数:46\n",
      "请您输入第三个数:65\n",
      "4 46 65\n"
     ]
    }
   ],
   "source": [
    "a=int(input(\"请您输入第一个数:\"))\n",
    "b=int(input(\"请您输入第二个数:\"))\n",
    "c=int(input(\"请您输入第三个数:\"))\n",
    "if a>=b:\n",
    "    if a>=c:\n",
    "        if b>=c:\n",
    "            print(c,b,a)\n",
    "        else:\n",
    "            print(b,c,a)\n",
    "    else:\n",
    "        print(b,a,c)\n",
    "else:\n",
    "    if a>=c:\n",
    "        print(c,a,b)\n",
    "    elif b>=c:\n",
    "        print(a,c,b)\n",
    "    else:\n",
    "        print(a,b,c)"
   ]
  },
  {
   "cell_type": "code",
   "execution_count": 21,
   "metadata": {},
   "outputs": [
    {
     "name": "stdout",
     "output_type": "stream",
     "text": [
      "Enter three number: 15 546645 2\n",
      "The sorted number are 2 15 546645\n"
     ]
    }
   ],
   "source": [
    "\"\"\"\n",
    "输出三个数升序显示\n",
    "\"\"\"\n",
    "def desplaySortedNumbers(num1,num2,num3):\n",
    "    print(\"Enter three number:\",num1,num2,num3)\n",
    "    if num1>num2 and num1>num3:\n",
    "        if num2 > num3:\n",
    "            print(\"The sorted number are\",num3,num2,num1)\n",
    "        else:\n",
    "            print(\"The sorted number are\",num2,num3,num1)\n",
    "    elif num2>num1 and num2>num3:\n",
    "        if num1 > num3:\n",
    "            print(\"The sorted number are\",num3,num1,num2)\n",
    "        else:\n",
    "            print(\"The sorted number are\",num1,num3,num2)\n",
    "    elif num3>num1 and num3>num2:\n",
    "        if num1 > num2:\n",
    "            print(\"The sorted number are\",num2,num1,num3)\n",
    "        else:\n",
    "            print(\"The sorted number are\",num1,num2,num3)\n",
    "\n",
    "desplaySortedNumbers(15,546645,2)"
   ]
  },
  {
   "cell_type": "code",
   "execution_count": 6,
   "metadata": {},
   "outputs": [
    {
     "name": "stdout",
     "output_type": "stream",
     "text": [
      "两点间距离为： 2.8284271247461903\n"
     ]
    }
   ],
   "source": [
    "\"\"\"\n",
    "两点间距离\n",
    "\"\"\"\n",
    "import math\n",
    "def distance(x1,y1,x2,y2):\n",
    "    q=(x1-x2)**2\n",
    "    w=(y1-y2)**2\n",
    "    e=q+w\n",
    "    dis= math.sqrt(e)\n",
    "    print(\"两点间距离为：\",dis)\n",
    "    \n",
    "distance(1,2,3,4)"
   ]
  },
  {
   "cell_type": "code",
   "execution_count": 5,
   "metadata": {},
   "outputs": [
    {
     "name": "stdout",
     "output_type": "stream",
     "text": [
      "2 3\n",
      "3 7\n",
      "5 31\n",
      "7 127\n",
      "11 2047\n",
      "13 8191\n",
      "17 131071\n",
      "19 524287\n",
      "23 8388607\n",
      "29 536870911\n",
      "31 2147483647\n"
     ]
    }
   ],
   "source": [
    "\"\"\"\n",
    "梅森素数\n",
    "\"\"\"\n",
    "def meisen(p):\n",
    "    q=pow(2,p)-1\n",
    "    m=2\n",
    "    if p==2:\n",
    "        print(p,q)\n",
    "    for i in range(2,p):\n",
    "        m=m+1\n",
    "        if p%i==0:\n",
    "            break\n",
    "        if m == p:\n",
    "            print(p,q)\n",
    "            \n",
    "for p in range(1,32):\n",
    "    meisen(p)"
   ]
  },
  {
   "cell_type": "code",
   "execution_count": 4,
   "metadata": {},
   "outputs": [
    {
     "name": "stdout",
     "output_type": "stream",
     "text": [
      "2  3  4  5  6  7  8  9  :  ;\n",
      "<  =  >  ?  @  A  B  C  D  E\n",
      "F  G  H  I  J  K  L  M  N  O\n",
      "P  Q  R  S  T  U  V  W  X  Y\n"
     ]
    }
   ],
   "source": [
    "\"\"\"\n",
    "显示字符\n",
    "\"\"\"\n",
    "def printChars(ch1,ch2,num):\n",
    "    q=ord(ch1)+1\n",
    "    w=ord(ch2)\n",
    "    n=0\n",
    "    for i in range(q,w):\n",
    "        n=n+1\n",
    "        if n%num !=0:\n",
    "            print(chr(i),end='  ')\n",
    "        else:\n",
    "            print(chr(i))\n",
    "        \n",
    "printChars('1','Z',10)\n",
    " \n"
   ]
  },
  {
   "cell_type": "code",
   "execution_count": 11,
   "metadata": {},
   "outputs": [
    {
     "name": "stdout",
     "output_type": "stream",
     "text": [
      "4\n",
      "3\n",
      "2\n"
     ]
    }
   ],
   "source": [
    "a=234\n",
    "print(a%10)\n",
    "print(a//10%10)\n",
    "print(a//100)"
   ]
  },
  {
   "cell_type": "code",
   "execution_count": 15,
   "metadata": {},
   "outputs": [
    {
     "name": "stdout",
     "output_type": "stream",
     "text": [
      "1.0\t5.0\t12.0\t22.0\t35.0\t51.0\t70.0\t92.0\t117.0\t145.0\t\n",
      "176.0\t210.0\t247.0\t287.0\t330.0\t376.0\t425.0\t477.0\t532.0\t590.0\t\n",
      "651.0\t715.0\t782.0\t852.0\t925.0\t1001.0\t1080.0\t1162.0\t1247.0\t1335.0\t\n",
      "1426.0\t1520.0\t1617.0\t1717.0\t1820.0\t1926.0\t2035.0\t2147.0\t2262.0\t2380.0\t\n",
      "2501.0\t2625.0\t2752.0\t2882.0\t3015.0\t3151.0\t3290.0\t3432.0\t3577.0\t3725.0\t\n",
      "3876.0\t4030.0\t4187.0\t4347.0\t4510.0\t4676.0\t4845.0\t5017.0\t5192.0\t5370.0\t\n",
      "5551.0\t5735.0\t5922.0\t6112.0\t6305.0\t6501.0\t6700.0\t6902.0\t7107.0\t7315.0\t\n",
      "7526.0\t7740.0\t7957.0\t8177.0\t8400.0\t8626.0\t8855.0\t9087.0\t9322.0\t9560.0\t\n",
      "9801.0\t10045.0\t10292.0\t10542.0\t10795.0\t11051.0\t11310.0\t11572.0\t11837.0\t12105.0\t\n",
      "12376.0\t12650.0\t12927.0\t13207.0\t13490.0\t13776.0\t14065.0\t14357.0\t14652.0\t14950.0\t\n"
     ]
    }
   ],
   "source": [
    "def getpentaonalNumber(n):\n",
    "    c = n*(3*n-1)/2\n",
    "    print(c,end='\\t')\n",
    "    if n % 10 == 0:\n",
    "        print()\n",
    "for i in range(1,101):\n",
    "    getpentaonalNumber(i)"
   ]
  },
  {
   "cell_type": "code",
   "execution_count": 19,
   "metadata": {},
   "outputs": [
    {
     "name": "stdout",
     "output_type": "stream",
     "text": [
      "3\n",
      "7\n",
      "12\n"
     ]
    }
   ],
   "source": [
    "def sumDigits(n):\n",
    "    str_ = str(n)\n",
    "    int_ = 0\n",
    "    for i in str_:\n",
    "        int_ += int(i)\n",
    "        print(int_)\n",
    "sumDigits(345)"
   ]
  },
  {
   "cell_type": "code",
   "execution_count": null,
   "metadata": {},
   "outputs": [],
   "source": [
    "def displayStoretedNumbers(a,b,c):\n",
    "    res = [a,b,c]\n",
    "    res.sort()\n",
    "    print(res)\n",
    "displayStoretedNumbers(477,46,77)"
   ]
  },
  {
   "cell_type": "code",
   "execution_count": null,
   "metadata": {},
   "outputs": [],
   "source": [
    "a=int(input(\"请您输入第一个数:\"))\n",
    "b=int(input(\"请您输入第二个数:\"))\n",
    "c=int(input(\"请您输入第三个数:\"))\n",
    "if a>=b:\n",
    "    if a>=c:\n",
    "        if b>=c:\n",
    "            print(c,b,a)\n",
    "        else:\n",
    "            print(b,c,a)\n",
    "    else:\n",
    "        print(b,a,c)\n",
    "else:\n",
    "    if a>=c:\n",
    "        print(c,a,b)\n",
    "    elif b>=c:\n",
    "        print(a,c,b)\n",
    "    else:\n",
    "        print(a,b,c)"
   ]
  },
  {
   "cell_type": "code",
   "execution_count": 2,
   "metadata": {},
   "outputs": [
    {
     "name": "stdout",
     "output_type": "stream",
     "text": [
      "请输入邮箱1\n",
      "您输入的邮箱是：\n",
      "请输入密码2\n",
      "请确认密码2\n",
      "成功\n",
      "7680\n",
      "输入验证码2222\n",
      "请重新验证\n",
      "9910\n",
      "输入验证码9910\n",
      "验证成功\n"
     ]
    }
   ],
   "source": [
    "class net(object):\n",
    "    def yx(self):\n",
    "        sr = input(\"请输入邮箱\")\n",
    "        print(\"您输入的邮箱是：\")\n",
    "        self.mima()\n",
    "    def mima(self):\n",
    "        for _ in range(4):\n",
    "            mima=input(\"请输入密码\")\n",
    "            mims=input(\"请确认密码\")\n",
    "            if mima==mims:\n",
    "                print(\"成功\")\n",
    "                self.yzm()\n",
    "                break\n",
    "            else:\n",
    "                print(\"两次密码不一样\")\n",
    "        else:\n",
    "                print(\"您可能是个机器人\")\n",
    "    def yzm(self):\n",
    "        for _ in range(3):\n",
    "            import random\n",
    "            a=random.randrange(1000,9999)\n",
    "            print(a)\n",
    "            b=int(input(\"输入验证码\"))\n",
    "            if b==a:\n",
    "                print(\"验证成功\")\n",
    "                break\n",
    "            else:\n",
    "                print(\"请重新验证\")\n",
    "                \n",
    "        else:\n",
    "            print(\"机器人\")\n",
    "    \n",
    "AA=net()\n",
    "AA.yx()"
   ]
  },
  {
   "cell_type": "code",
   "execution_count": 5,
   "metadata": {},
   "outputs": [
    {
     "name": "stdout",
     "output_type": "stream",
     "text": [
      "<property object at 0x0000018F685C84F8>\n"
     ]
    }
   ],
   "source": [
    "class kj(object):\n",
    "    def __init__(self):\n",
    "        self.mimi='asdfghjkl'\n",
    "        self.mima='123465'\n",
    "    @property\n",
    "    def mimi(self):\n",
    "        return self._mimi\n",
    "    @mimi.setter\n",
    "    def mimi(self,str_):\n",
    "        self._mimi=str_\n",
    "c=kj()\n",
    "print(kj.mimi)\n",
    "c.mimi='zxcvbnm'"
   ]
  },
  {
   "cell_type": "code",
   "execution_count": 4,
   "metadata": {},
   "outputs": [
    {
     "name": "stdout",
     "output_type": "stream",
     "text": [
      "3332\n"
     ]
    }
   ],
   "source": [
    "import random\n",
    "a=random.randrange(1000,9999)\n",
    "print(a)"
   ]
  },
  {
   "cell_type": "code",
   "execution_count": 11,
   "metadata": {},
   "outputs": [
    {
     "name": "stdout",
     "output_type": "stream",
     "text": [
      "1005\n"
     ]
    }
   ],
   "source": [
    "class Number(object):\n",
    "    def __init__(self,a,b,c):\n",
    "        self.__a =a\n",
    "        self.__b =b\n",
    "        self.__c =c\n",
    "    @property\n",
    "    def a(self):\n",
    "        print(self.__a)\n",
    "    @a.setter\n",
    "    def a(self,d):\n",
    "        self.__a=d\n",
    "    def SUM(self):\n",
    "        print(self.__a + self.__b + self.__c)\n",
    "    \n",
    "number = Number(1,2,3)\n",
    "number.a = 1000\n",
    "number.SUM()"
   ]
  },
  {
   "cell_type": "code",
   "execution_count": 1,
   "metadata": {},
   "outputs": [
    {
     "name": "stdout",
     "output_type": "stream",
     "text": [
      "矩形1的宽为: 4\n",
      "矩形1的高为: 40\n",
      "矩形1的面积为: 160\n",
      "矩形1的周长为: 88\n",
      "矩形2的宽为: 3.5\n",
      "矩形2的高为: 35.7\n",
      "矩形2的面积为: 124.95000000000002\n",
      "矩形2的周长为: 78.4\n"
     ]
    }
   ],
   "source": [
    "class Rectangle1(object):\n",
    "    def __init__(self,width,height):\n",
    "        self.width = width\n",
    "        self.height = height\n",
    "        width = 1\n",
    "        height = 2\n",
    "    def getArea(self):\n",
    "        print(\"矩形1的宽为:\",self.width)\n",
    "        print(\"矩形1的高为:\",self.height)\n",
    "        print(\"矩形1的面积为:\",self.width * self.height)\n",
    "    def getPerimeter(self):\n",
    "        print(\"矩形1的周长为:\",(self.width +self.height)*2)\n",
    "                \n",
    "class Rectangle2(object):\n",
    "    def __init__(self,width,height):\n",
    "        self.width = width\n",
    "        self.height = height\n",
    "    def getArea(self):\n",
    "        print(\"矩形2的宽为:\",self.width)\n",
    "        print(\"矩形2的高为:\",self.height)\n",
    "        print(\"矩形2的面积为:\",self.width * self.height)\n",
    "    def getPerimeter(self):\n",
    "        print(\"矩形2的周长为:\",(self.width +self.height)*2)\n",
    "\n",
    "jisuan = Rectangle1(4,40)\n",
    "jisuan.getArea()\n",
    "jisuan.getPerimeter()\n",
    "    \n",
    "jisuan2 = Rectangle2(3.5,35.7)\n",
    "jisuan2.getArea()\n",
    "jisuan2.getPerimeter()"
   ]
  },
  {
   "cell_type": "code",
   "execution_count": 2,
   "metadata": {},
   "outputs": [
    {
     "name": "stdout",
     "output_type": "stream",
     "text": [
      "id为： 4545\n",
      "余额为： 10500\n",
      "月利率为： 0.004583333333333333\n",
      "月利息为： 48.125\n"
     ]
    }
   ],
   "source": [
    "class Account(object):\n",
    "    def __init__(self,id,balance,annuallnterestRate):\n",
    "        self.__id = id\n",
    "        self.__balance = balance\n",
    "        self.__annuallnterestRate = annuallnterestRate\n",
    "        \n",
    "    @property#访问器\n",
    "    def id(self):\n",
    "        print(self.__id)   \n",
    "    @id.setter#修改器\n",
    "    def id(self,erid):\n",
    "        self.__id = erid\n",
    "    @property\n",
    "    def balance(self):\n",
    "        print(self.__balance)   \n",
    "    @balance.setter\n",
    "    def balance(self,erbalance):\n",
    "        self.__balance = erbalance\n",
    "    @property\n",
    "    def annuallnterestRate(self):\n",
    "        print(self.__annuallnterestRate)   \n",
    "    @annuallnterestRate.setter\n",
    "    def annuallnterestRate(self,erannuallnterestRate):\n",
    "        self.__annuallnterestRate = erannuallnterestRate\n",
    "    \n",
    "    \n",
    "    def getMonthlyInterestRate(self):\n",
    "        #返回月利率\n",
    "        self.monthlyInterestRate = self.__annuallnterestRate/12\n",
    "        print(\"月利率为：\",self.monthlyInterestRate)\n",
    "    def getMonthlyInterest(self):\n",
    "        #返回月利息\n",
    "        print(\"月利息为：\",self.__balance * self.monthlyInterestRate)\n",
    "    def withdraw(self,atm):\n",
    "        #取款\n",
    "        self.__balance = self.__balance - atm\n",
    "    def deposit(self,atm):\n",
    "        #存款\n",
    "        self.__balance = self.__balance + atm\n",
    "        print(\"id为：\",self.__id)\n",
    "        print(\"余额为：\",self.__balance)\n",
    "\n",
    "get = Account(1122,20000,0.045)\n",
    "get.id = 4545\n",
    "get.balance = 10000\n",
    "get.annuallnterestRate = 0.055\n",
    "\n",
    "get.withdraw(2500)\n",
    "get.deposit(3000)\n",
    "get.getMonthlyInterestRate()\n",
    "get.getMonthlyInterest()"
   ]
  },
  {
   "cell_type": "code",
   "execution_count": 1,
   "metadata": {},
   "outputs": [
    {
     "data": {
      "text/plain": [
       "(2.0, 3.0)"
      ]
     },
     "execution_count": 1,
     "metadata": {},
     "output_type": "execute_result"
    }
   ],
   "source": [
    "import numpy as np\n",
    "def get_crossing(s1,s2):\n",
    "    xa,ya = s1[0][0],s1[0][1]\n",
    "    xb,yb = s1[1][0],s1[1][1]\n",
    "    xc,yc = s2[0][0],s2[0][1]\n",
    "    xd,yd = s2[1][0],s2[1][1]\n",
    "    #判断两条直线是否相交，矩阵行列式计算\n",
    "    a = np.matrix(\n",
    "        [\n",
    "            [xb-xa,-(xd-xc)],\n",
    "            [yb-ya,-(yd-yc)]\n",
    "        ]\n",
    "    )\n",
    "    delta = np.linalg.det(a)\n",
    "    #不相交,返回两线段\n",
    "    if np.fabs(delta) < 1e-6:\n",
    "        print(delta)\n",
    "        return None        \n",
    "    #求两个参数lambda和miu\n",
    "    c = np.matrix(\n",
    "        [\n",
    "            [xc-xa,-(xd-xc)],\n",
    "            [yc-ya,-(yd-yc)]\n",
    "        ]\n",
    "    )\n",
    "    d = np.matrix(\n",
    "        [\n",
    "            [xb-xa,xc-xa],\n",
    "            [yb-ya,yc-ya]\n",
    "        ]\n",
    "    )\n",
    "    lamb = np.linalg.det(c)/delta\n",
    "    miu = np.linalg.det(d)/delta\n",
    "    #相交\n",
    "    if lamb <= 1 and lamb >= 0 and miu >= 0 and miu <= 1:\n",
    "        x = xc + miu*(xd-xc)\n",
    "        y = yc + miu*(yd-yc)\n",
    "        return (x,y)\n",
    "    #相交在延长线上\n",
    "    else:\n",
    "        return None\n",
    "get_crossing(((1,2),(3,4)),((1,4),(2,3)))"
   ]
  },
  {
   "cell_type": "code",
   "execution_count": 1,
   "metadata": {},
   "outputs": [
    {
     "name": "stdout",
     "output_type": "stream",
     "text": [
      "40\n",
      "30.776835371752536\n"
     ]
    }
   ],
   "source": [
    "\"\"\"\n",
    "4、一个正n边形的边都有同样的长度，……\n",
    "\"\"\"\n",
    "import math\n",
    "class RegularPolygon(object):\n",
    "    def __init__(self,n,side,x,y):\n",
    "        self.n=n\n",
    "        self.side=side\n",
    "        self.x=x\n",
    "        self.y=y\n",
    "    def getPerimenter(self):\n",
    "        print(self.n*self.side)\n",
    "    def getArea(self):\n",
    "        Area = self.n*self.side/(4*math.tan(math.pi/self.n))\n",
    "        print(Area)\n",
    "qwe = RegularPolygon(10,4,5.6,7.8)\n",
    "qwe.getPerimenter()\n",
    "qwe.getArea()"
   ]
  },
  {
   "cell_type": "code",
   "execution_count": 2,
   "metadata": {},
   "outputs": [
    {
     "name": "stdout",
     "output_type": "stream",
     "text": [
      "边长为 5 的正 6 边形周长为： 30\n",
      "边长为 5 的正 6 边形面积为： 21.650635094610966\n"
     ]
    }
   ],
   "source": [
    "import math\n",
    "class RegularPolygon(object):\n",
    "    def __init__(self,n,side,x,y):\n",
    "        self.__n = n\n",
    "        self.__side = side\n",
    "        self.__x = x\n",
    "        self.__y = y\n",
    "        x = 0\n",
    "        y = 0\n",
    "    @property#访问器\n",
    "    def n(self):\n",
    "        print(self.__n)   \n",
    "    @n.setter#修改器\n",
    "    def n(self,ern):\n",
    "        self.__n = ern   \n",
    "    @property#访问器\n",
    "    def side(self):\n",
    "        print(self.__side)   \n",
    "    @side.setter#修改器\n",
    "    def side(self,erside):\n",
    "        self.__side= erside    \n",
    "    @property#访问器\n",
    "    def x(self):\n",
    "        print(self.__x)   \n",
    "    @x.setter#修改器\n",
    "    def x(self,erx):\n",
    "        self.__x= erx  \n",
    "    @property#访问器\n",
    "    def y(self):\n",
    "        print(self.__y)   \n",
    "    @y.setter#修改器\n",
    "    def y(self,ery):\n",
    "        self.__y= ery\n",
    "        \n",
    "        \n",
    "    def getPerimeter(self):\n",
    "        print(\"边长为\",self.__side,\"的正\",self.__n,\"边形周长为：\",self.__n * self.__side)\n",
    "    def getArea(self):\n",
    "        print(\"边长为\",self.__side,\"的正\",self.__n,\"边形面积为：\",(self.__n * self.__side**2)/4* math.tan(math.pi/self.__n))\n",
    "        \n",
    "m =  RegularPolygon(10,4,5.6,7.8)\n",
    "m.n=6\n",
    "m.side = 5\n",
    "m.x = 45\n",
    "m.y = 44\n",
    "m.getPerimeter()\n",
    "m.getArea()"
   ]
  },
  {
   "cell_type": "code",
   "execution_count": null,
   "metadata": {},
   "outputs": [],
   "source": [
    "class Fan(object):\n",
    "    def __init__(self):\n",
    "        self.speed=1\n",
    "        self.on=False\n",
    "        self.radius=5.0\n",
    "        self.color=\"blue\"\n",
    "    def fengshan(self,speed,on,radius,color):\n",
    "        self.speed=speed\n",
    "        self.color=color\n",
    "        self.radius=radius\n",
    "        self.on=on\n",
    "    def xianshi(self):\n",
    "        if self.speed==1:\n",
    "            speed1=\"SLOW\"\n",
    "        elif self.speed==2:\n",
    "            speed1=\"MEDIUM\"\n",
    "        else:\n",
    "            speed1=\"FAST\"\n",
    "        print(speed1,self.on,self.radius,self.color)\n",
    "qwe = Fan()\n",
    "qwe.fengshan(3,10.0,True,\"yellow\")\n",
    "qwe.xianshi()\n",
    "qwe.fengshan(2,5.0,False,\"blue\")\n",
    "qwe.xianshi()"
   ]
  },
  {
   "cell_type": "code",
   "execution_count": 1,
   "metadata": {},
   "outputs": [
    {
     "name": "stdout",
     "output_type": "stream",
     "text": [
      "-4.0\n",
      "4.5\n"
     ]
    }
   ],
   "source": [
    "\"\"\"\n",
    "5、2*2线性方程\n",
    "\"\"\"\n",
    "class LinearEquation(object):\n",
    "    def __init__(self,a,b,c,d,e,f):\n",
    "        self.__a=a\n",
    "        self.__b=b\n",
    "        self.__c=c\n",
    "        self.__d=d\n",
    "        self.__e=e\n",
    "        self.__f=f\n",
    "        self.x=0\n",
    "        self.y=0\n",
    "        self.z=0\n",
    "    def isSolvable(self):\n",
    "        z=self.__a*self.__d-self.__b*self.__c\n",
    "        if z !=0:\n",
    "            self.z=True\n",
    "        else:\n",
    "            self.z=False\n",
    "    def get(self):\n",
    "        self.x=(self.__e*self.__d-self.__b*self.__f)/(self.__a*self.__d-self.__b*self.__c)\n",
    "        self.y=(self.__a*self.__f-self.__e*self.__c)/(self.__a*self.__d-self.__b*self.__c)\n",
    "    def getX(self):\n",
    "        self.isSolvable()\n",
    "        if self.z == True:\n",
    "            self.get()\n",
    "            print(self.x)\n",
    "        else:\n",
    "            pass\n",
    "    def getY(self):\n",
    "        self.isSolvable()\n",
    "        if self.z == True:\n",
    "            self.get()\n",
    "            print(self.y)\n",
    "        else:\n",
    "            pass\n",
    "        \n",
    "qwe=LinearEquation(1,2,3,4,5,6)\n",
    "qwe.getX()\n",
    "qwe.getY()"
   ]
  },
  {
   "cell_type": "code",
   "execution_count": null,
   "metadata": {},
   "outputs": [],
   "source": []
  },
  {
   "cell_type": "code",
   "execution_count": null,
   "metadata": {},
   "outputs": [],
   "source": []
  }
 ],
 "metadata": {
  "kernelspec": {
   "display_name": "Python 3",
   "language": "python",
   "name": "python3"
  },
  "language_info": {
   "codemirror_mode": {
    "name": "ipython",
    "version": 3
   },
   "file_extension": ".py",
   "mimetype": "text/x-python",
   "name": "python",
   "nbconvert_exporter": "python",
   "pygments_lexer": "ipython3",
   "version": "3.7.3"
  }
 },
 "nbformat": 4,
 "nbformat_minor": 2
}
