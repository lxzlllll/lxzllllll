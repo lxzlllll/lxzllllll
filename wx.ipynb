{
 "cells": [
  {
   "cell_type": "code",
   "execution_count": null,
   "metadata": {
    "scrolled": false
   },
   "outputs": [],
   "source": []
  },
  {
   "cell_type": "code",
   "execution_count": null,
   "metadata": {},
   "outputs": [],
   "source": [
    "# 发送图片\n",
    "my_friend.send_image('my_picture.jpg')\n"
   ]
  },
  {
   "cell_type": "code",
   "execution_count": null,
   "metadata": {},
   "outputs": [],
   "source": [
    "from wxpy import *\n",
    "bot = Bot()\n",
    "my_friend = bot.friends().search('丛婷婷大胖蛋')[0]\n",
    "my_friend.send('大胖蛋老师找你呢')\n",
    "my_friend.send_image('F:\\\\xxxxxx\\\\xcv.png')\n",
    "\n",
    "# 打印来自其他好友、群聊和公众号的消息\n",
    "@bot.register()\n",
    "def print_others(msg):\n",
    "    print(msg)\n",
    "\n",
    "# 回复 my_friend 的消息 (优先匹配后注册的函数!)\n",
    "@bot.register(my_friend)\n",
    "def reply_my_friend(msg):\n",
    "    return '你是大胖蛋'.format(msg.text, msg.type)\n",
    "\n",
    "\n",
    "# 自动接受新的好友请求\n",
    "@bot.register(msg_types=FRIENDS)\n",
    "def auto_accept_friends(msg):\n",
    "    # 接受好友请求\n",
    "    new_friend = msg.card.accept()\n",
    "    # 向新的好友发送消息\n",
    "    new_friend.send('哈哈，我自动接受了你的好友请求')\n",
    "embed()\n"
   ]
  }
 ],
 "metadata": {
  "kernelspec": {
   "display_name": "Python 3",
   "language": "python",
   "name": "python3"
  },
  "language_info": {
   "codemirror_mode": {
    "name": "ipython",
    "version": 3
   },
   "file_extension": ".py",
   "mimetype": "text/x-python",
   "name": "python",
   "nbconvert_exporter": "python",
   "pygments_lexer": "ipython3",
   "version": "3.7.3"
  }
 },
 "nbformat": 4,
 "nbformat_minor": 2
}
